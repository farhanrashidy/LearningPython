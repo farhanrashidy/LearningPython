{
 "cells": [
  {
   "metadata": {
    "ExecuteTime": {
     "end_time": "2025-05-10T00:03:18.252735Z",
     "start_time": "2025-05-10T00:03:18.230738Z"
    }
   },
   "cell_type": "code",
   "source": [
    "import random\n",
    "food = [\"pizza\", \"burger\", \"chicken\"]\n",
    "dinner = random.choice(food)\n",
    "print(dinner)"
   ],
   "id": "23dd98fde6b7d5c8",
   "outputs": [
    {
     "name": "stdout",
     "output_type": "stream",
     "text": [
      "chicken\n"
     ]
    }
   ],
   "execution_count": 4
  }
 ],
 "metadata": {
  "kernelspec": {
   "display_name": "Python 3",
   "language": "python",
   "name": "python3"
  },
  "language_info": {
   "codemirror_mode": {
    "name": "ipython",
    "version": 2
   },
   "file_extension": ".py",
   "mimetype": "text/x-python",
   "name": "python",
   "nbconvert_exporter": "python",
   "pygments_lexer": "ipython2",
   "version": "2.7.6"
  }
 },
 "nbformat": 4,
 "nbformat_minor": 5
}
